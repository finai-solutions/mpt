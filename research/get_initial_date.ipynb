{
 "cells": [
  {
   "cell_type": "code",
   "execution_count": 76,
   "id": "ee3b7795-9935-4c5a-8578-85bde262787b",
   "metadata": {},
   "outputs": [],
   "source": [
    "from Historic_Crypto import HistoricalData\n",
    "from datetime import timedelta, datetime"
   ]
  },
  {
   "cell_type": "code",
   "execution_count": 77,
   "id": "4cdca5bd-0e75-4501-8988-837552149f31",
   "metadata": {},
   "outputs": [],
   "source": [
    "token = 'SOL-USDT'"
   ]
  },
  {
   "cell_type": "markdown",
   "id": "2ac9a6a1-c29e-4742-b3aa-a503d6c6aff1",
   "metadata": {},
   "source": [
    "# implement search algorithm for initial date within interval\n"
   ]
  },
  {
   "cell_type": "code",
   "execution_count": 78,
   "id": "9fbc37de-a284-4902-8042-dc02cd602c7e",
   "metadata": {},
   "outputs": [],
   "source": [
    "interval = ('2020-01-01-00-00', '2024-01-01-00-00')"
   ]
  },
  {
   "cell_type": "code",
   "execution_count": 79,
   "id": "a9c757b4-586f-4558-ad88-aa14d3bc9b06",
   "metadata": {},
   "outputs": [],
   "source": [
    "def valid_date(token, date, fmt, max_granularity=86400, verbose=False):\n",
    "    try:\n",
    "        res = HistoricalData(token, max_granularity, date, (datetime.strptime(date, fmt)+timedelta(days=1)).strftime(fmt), verbose=False).retrieve_data()\n",
    "        print('valid_date: {}'.format(date))\n",
    "        return True\n",
    "    except Exception as e:\n",
    "        if verbose:\n",
    "            print('valida_date error: {}'.format(e))\n",
    "        return False\n",
    "    return True"
   ]
  },
  {
   "cell_type": "code",
   "execution_count": 112,
   "id": "0a7ed3bc-bbba-4ba1-bd8a-6f5d27998fb6",
   "metadata": {},
   "outputs": [
    {
     "name": "stdout",
     "output_type": "stream",
     "text": [
      "valid_date: 2021-07-01-00-00\n"
     ]
    }
   ],
   "source": [
    "assert valid_date('SOL-USDT', '2020-01-01-00-00', '%Y-%m-%d-%H-%M')==False\n",
    "assert valid_date('SOL-USDT', '2021-07-01-00-00', '%Y-%m-%d-%H-%M')"
   ]
  },
  {
   "cell_type": "code",
   "execution_count": 119,
   "id": "419a633e-2865-4db8-a1e6-4d613f6af59d",
   "metadata": {},
   "outputs": [
    {
     "name": "stdout",
     "output_type": "stream",
     "text": [
      "valid_date: 2016-06-01-00-00\n"
     ]
    }
   ],
   "source": [
    "assert valid_date('BTC-USD', '2016-06-01-00-00', '%Y-%m-%d-%H-%M')"
   ]
  },
  {
   "cell_type": "code",
   "execution_count": 90,
   "id": "1d05fb62-18f5-4805-8ee6-babddf5196fc",
   "metadata": {},
   "outputs": [],
   "source": [
    "def get_midway(s, e, fmt):\n",
    "    #TODO (implement) resolution of division, and subtraction should be in days\n",
    "    delta = (datetime.strptime(e, fmt)-datetime.strptime(s, fmt))\n",
    "    delta = timedelta(days=delta.days)\n",
    "    return (datetime.strptime(s,fmt)+delta/2).strftime(fmt)"
   ]
  },
  {
   "cell_type": "code",
   "execution_count": 125,
   "id": "98b73cc8-34e6-42c2-8143-4ba75d85fb25",
   "metadata": {},
   "outputs": [],
   "source": [
    "def get_initial_date(token, interval, max_granularity=86400, fmt='%Y-%m-%d-%H-%M'):\n",
    "    s = interval[0]\n",
    "    e = interval[1]\n",
    "    if valid_date(token, s, fmt, max_granularity):\n",
    "        return s\n",
    "    else:\n",
    "        # if no initial date within given interval, throw an error\n",
    "        if s==e:\n",
    "            raise Error(\"no initial date within given interval\")\n",
    "        # check midway throrough m between s, e\n",
    "        m = get_midway(s, e, fmt)\n",
    "        if s==m:\n",
    "            return s\n",
    "        print('m: {}, s: {}, e: {}'.format(m, s, e))\n",
    "        # if it's valid, then get_intial_date with new interval <s,m>\n",
    "        if valid_date(token, m, fmt, max_granularity):\n",
    "            res = get_initial_date(token, [s,m])\n",
    "            print('<s,m>: {}'.format(res))\n",
    "            return res\n",
    "        # else get_intial_date with new pair <m,e>\n",
    "        else:\n",
    "            res = get_initial_date(token, [m,e])\n",
    "            print('<m,e>: {}:'.format(res))\n",
    "            return res\n",
    "            \n",
    "    return e #TODO (res)"
   ]
  },
  {
   "cell_type": "code",
   "execution_count": 127,
   "id": "2668833f-62df-47e5-b0c0-581c2ed61adb",
   "metadata": {},
   "outputs": [
    {
     "name": "stdout",
     "output_type": "stream",
     "text": [
      "m: 2020-07-02-00-00, s: 2018-01-01-00-00, e: 2023-01-01-00-00\n",
      "m: 2021-10-01-12-00, s: 2020-07-02-00-00, e: 2023-01-01-00-00\n",
      "valid_date: 2021-10-01-12-00\n",
      "m: 2021-02-15-00-00, s: 2020-07-02-00-00, e: 2021-10-01-12-00\n",
      "m: 2021-06-09-00-00, s: 2021-02-15-00-00, e: 2021-10-01-12-00\n",
      "m: 2021-08-05-00-00, s: 2021-06-09-00-00, e: 2021-10-01-12-00\n",
      "valid_date: 2021-08-05-00-00\n",
      "m: 2021-07-07-12-00, s: 2021-06-09-00-00, e: 2021-08-05-00-00\n",
      "valid_date: 2021-07-07-12-00\n",
      "m: 2021-06-23-00-00, s: 2021-06-09-00-00, e: 2021-07-07-12-00\n",
      "valid_date: 2021-06-23-00-00\n",
      "m: 2021-06-16-00-00, s: 2021-06-09-00-00, e: 2021-06-23-00-00\n",
      "valid_date: 2021-06-16-00-00\n",
      "m: 2021-06-12-12-00, s: 2021-06-09-00-00, e: 2021-06-16-00-00\n",
      "m: 2021-06-14-00-00, s: 2021-06-12-12-00, e: 2021-06-16-00-00\n",
      "m: 2021-06-15-00-00, s: 2021-06-14-00-00, e: 2021-06-16-00-00\n",
      "m: 2021-06-15-12-00, s: 2021-06-15-00-00, e: 2021-06-16-00-00\n",
      "<m,e>: 2021-06-15-12-00:\n",
      "<m,e>: 2021-06-15-12-00:\n",
      "<m,e>: 2021-06-15-12-00:\n",
      "<m,e>: 2021-06-15-12-00:\n",
      "<s,m>: 2021-06-15-12-00\n",
      "<s,m>: 2021-06-15-12-00\n",
      "<s,m>: 2021-06-15-12-00\n",
      "<s,m>: 2021-06-15-12-00\n",
      "<m,e>: 2021-06-15-12-00:\n",
      "<m,e>: 2021-06-15-12-00:\n",
      "<s,m>: 2021-06-15-12-00\n",
      "<m,e>: 2021-06-15-12-00:\n"
     ]
    },
    {
     "data": {
      "text/plain": [
       "'2021-06-15-12-00'"
      ]
     },
     "execution_count": 127,
     "metadata": {},
     "output_type": "execute_result"
    }
   ],
   "source": [
    "get_initial_date('SOL-USDT', ['2018-01-01-00-00', '2023-01-01-00-00'])"
   ]
  },
  {
   "cell_type": "code",
   "execution_count": null,
   "id": "0d25e103-f7df-4abf-9a31-b2a608573a96",
   "metadata": {},
   "outputs": [],
   "source": []
  }
 ],
 "metadata": {
  "kernelspec": {
   "display_name": "Python 3 (ipykernel)",
   "language": "python",
   "name": "python3"
  },
  "language_info": {
   "codemirror_mode": {
    "name": "ipython",
    "version": 3
   },
   "file_extension": ".py",
   "mimetype": "text/x-python",
   "name": "python",
   "nbconvert_exporter": "python",
   "pygments_lexer": "ipython3",
   "version": "3.10.12"
  }
 },
 "nbformat": 4,
 "nbformat_minor": 5
}
